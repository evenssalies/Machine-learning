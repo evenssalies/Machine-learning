{
 "cells": [
  {
   "cell_type": "code",
   "execution_count": 1,
   "metadata": {},
   "outputs": [],
   "source": [
    "# Scikit-learn \n",
    "# (requires kernel environment ipykernel)\n",
    "#  \n",
    "# Géron (2022)\n",
    "#   Ch. 3 \"Classification\" (pp. 103-174\n",
    "#   Data : MNIST (the \"Hello World\" of ML)\n",
    "#       Note: the training set is already shuffled for us\n",
    "\n",
    "import pandas as pd\n",
    "\n",
    "# Get the data\n",
    "from sklearn.datasets import fetch_openml\n",
    "mnist = fetch_openml(\"mnist_784\", as_frame=False)\n",
    "X, y = mnist.data, mnist.target"
   ]
  },
  {
   "cell_type": "code",
   "execution_count": 19,
   "metadata": {},
   "outputs": [
    {
     "data": {
      "text/plain": [
       "array([[0, 0, 0, ..., 0, 0, 0],\n",
       "       [0, 0, 0, ..., 0, 0, 0],\n",
       "       [0, 0, 0, ..., 0, 0, 0],\n",
       "       ...,\n",
       "       [0, 0, 0, ..., 0, 0, 0],\n",
       "       [0, 0, 0, ..., 0, 0, 0],\n",
       "       [0, 0, 0, ..., 0, 0, 0]], shape=(70000, 784))"
      ]
     },
     "execution_count": 19,
     "metadata": {},
     "output_type": "execute_result"
    }
   ],
   "source": [
    "# Each row of X is a 28x28 image of a handwritten digit\n",
    "X"
   ]
  },
  {
   "cell_type": "code",
   "execution_count": 3,
   "metadata": {},
   "outputs": [
    {
     "name": "stdout",
     "output_type": "stream",
     "text": [
      "X has 70000 rows and 784 columns\n",
      "y has 70000 rows\n"
     ]
    }
   ],
   "source": [
    "# X has 70000 rows images and 784 columns (28 times 28 pixels), y has 70000 labels\n",
    "print(f\"X has {X.shape[0]} rows and {X.shape[1]} columns\")\n",
    "print(f\"y has {y.shape[0]} rows\")"
   ]
  },
  {
   "cell_type": "code",
   "execution_count": 20,
   "metadata": {},
   "outputs": [
    {
     "data": {
      "image/png": "[encoded data removed]",
      "text/plain": [
       "<Figure size 640x480 with 1 Axes>"
      ]
     },
     "metadata": {},
     "output_type": "display_data"
    },
    {
     "data": {
      "text/plain": [
       "'5'"
      ]
     },
     "execution_count": 20,
     "metadata": {},
     "output_type": "execute_result"
    }
   ],
   "source": [
    "import matplotlib.pyplot as plt\n",
    "\n",
    "def plot_digit(image_data):\n",
    "    image = image_data.reshape(28, 28)\n",
    "    plt.imshow(image, cmap=\"binary\", extent=[0, 28, 0, 28])\n",
    "    plt.grid(True, which='both', axis='both')\n",
    "    plt.xticks(range(0, 28, 1), fontsize=6)\n",
    "    plt.yticks(range(0, 28, 1), fontsize=6)\n",
    "    plt.show()\n",
    "\n",
    "plot_digit(X[0])\n",
    "y[0]"
   ]
  },
  {
   "cell_type": "code",
   "execution_count": 21,
   "metadata": {},
   "outputs": [],
   "source": [
    "# Training data (obs. 0 to 59999) is already shuffled\n",
    "# Test data (obs. 60000 to 69999) does not need to be shuffled\n",
    "X_train, X_test, y_train, y_test = X[:60000], X[60000:], y[:60000], y[60000:]"
   ]
  },
  {
   "cell_type": "code",
   "execution_count": 22,
   "metadata": {},
   "outputs": [
    {
     "name": "stdout",
     "output_type": "stream",
     "text": [
      "5 True\n",
      "0 False\n",
      "4 False\n",
      "1 False\n",
      "9 False\n"
     ]
    }
   ],
   "source": [
    "# We consider two classes: 5 and not-5\n",
    "#   y_train includes numbers in {0,...,9}, convert y_train and y_test to boolean arrays\n",
    "y_train_5 = (y_train == '5')\n",
    "y_test_5 = (y_test == '5')\n",
    "for j1, j2 in zip(y_train[:5], y_train_5[:5]):\n",
    "    print(j1, j2)"
   ]
  },
  {
   "cell_type": "code",
   "execution_count": 23,
   "metadata": {},
   "outputs": [
    {
     "data": {
      "text/plain": [
       "array([ True])"
      ]
     },
     "execution_count": 23,
     "metadata": {},
     "output_type": "execute_result"
    }
   ],
   "source": [
    "# Training\n",
    "#   Stochastic Gradient Descent (SGD) classifier\n",
    "from sklearn.linear_model import SGDClassifier\n",
    "model = SGDClassifier(random_state = 42)\n",
    "model.fit(X_train, y_train_5)\n",
    "\n",
    "# Predict the image of '5'\n",
    "model.predict([X_train[0]])"
   ]
  },
  {
   "cell_type": "code",
   "execution_count": 24,
   "metadata": {},
   "outputs": [
    {
     "data": {
      "text/plain": [
       "array([0.95035, 0.96035, 0.9604 ])"
      ]
     },
     "execution_count": 24,
     "metadata": {},
     "output_type": "execute_result"
    }
   ],
   "source": [
    "# Performance measures\n",
    "#   Cross-validation with three folds (cv = 3), two for training, one for validation.\n",
    "#       Note: Géron does not use Cross-validation on the entire data. Therefore, the\n",
    "#             training set is split into three subsets. On page 108, Géron implements\n",
    "#             Cross-Validation manually.\n",
    "from sklearn.model_selection import cross_val_score\n",
    "cross_val_score(model, X_train, y_train_5, cv = 3, scoring = 'accuracy')"
   ]
  },
  {
   "cell_type": "code",
   "execution_count": 25,
   "metadata": {},
   "outputs": [
    {
     "name": "stdout",
     "output_type": "stream",
     "text": [
      "0.9522666666666667\n"
     ]
    }
   ],
   "source": [
    "# Overall, 95.23 % of 5s are correctly classified\n",
    "print((y_train_5 == model.predict(X_train)).mean())"
   ]
  },
  {
   "cell_type": "code",
   "execution_count": 26,
   "metadata": {},
   "outputs": [
    {
     "name": "stdout",
     "output_type": "stream",
     "text": [
      "0.09035\n",
      "0.0\n",
      "1         0         \n",
      "0         0         \n",
      "0         0         \n",
      "0         0         \n",
      "0         0         \n",
      "False\n"
     ]
    },
    {
     "data": {
      "text/plain": [
       "array([0.90965, 0.90965, 0.90965])"
      ]
     },
     "execution_count": 26,
     "metadata": {},
     "output_type": "execute_result"
    }
   ],
   "source": [
    "# Dummy classifier.\n",
    "#   'prior': the predict method returns the most frequent class label in y_train_5: non-'5'.\n",
    "#  \n",
    "from sklearn.dummy import DummyClassifier\n",
    "model = DummyClassifier(strategy='prior')\n",
    "model.fit(X_train, y_train_5)\n",
    "prediction = model.predict(X_train)\n",
    "\n",
    "# The training data has 90.965 % of non-'5', the classifier predicts 0% of '5'\n",
    "print(y_train_5.mean())\n",
    "print(prediction.mean())\n",
    "\n",
    "for j1, j2 in zip(y_train_5[:5], prediction[:5]):\n",
    "    print(f\"{j1:<10}{j2:<10}\")\n",
    "print(any(prediction))\n",
    "cross_val_score(model, X_train, y_train_5, cv = 3, scoring = 'accuracy')"
   ]
  },
  {
   "cell_type": "code",
   "execution_count": 27,
   "metadata": {},
   "outputs": [],
   "source": [
    "# Precision and recall\n",
    "#   Precision = TP / (TP + FP)\n",
    "#   Recall (sensitivity, true positive rate) = TP / (TP + FN)\n",
    "#       TP = #true positives (correctly predicted '5'),\n",
    "#       FP = #false positives (falsely predicted '5'),\n",
    "#       FN = #false negatives (falsely predicted non-'5')\n",
    "\n",
    "from sklearn.linear_model import SGDClassifier\n",
    "model = SGDClassifier(random_state = 42)\n",
    "model.fit(X_train, y_train_5)\n",
    "prediction = model.predict(X_train)"
   ]
  },
  {
   "cell_type": "code",
   "execution_count": 28,
   "metadata": {},
   "outputs": [
    {
     "data": {
      "text/plain": [
       "array([[52316,  2263],\n",
       "       [  601,  4820]])"
      ]
     },
     "execution_count": 28,
     "metadata": {},
     "output_type": "execute_result"
    }
   ],
   "source": [
    "# Confusion matrix\n",
    "#   A 2x2 matrix with four elements: actual class (rows), predicted class (column)\n",
    "from sklearn.metrics import confusion_matrix\n",
    "matrix = confusion_matrix(y_train_5, prediction)\n",
    "matrix"
   ]
  },
  {
   "cell_type": "code",
   "execution_count": 29,
   "metadata": {},
   "outputs": [
    {
     "name": "stdout",
     "output_type": "stream",
     "text": [
      "Precision: 0.68050\n",
      "Recall: 0.88913\n"
     ]
    }
   ],
   "source": [
    "from sklearn.metrics import precision_score, recall_score\n",
    "precision = precision_score(y_train_5, prediction)\n",
    "recall = recall_score(y_train_5, prediction)\n",
    "\n",
    "print(f\"Precision: {precision:.5f}\")    # 4820 / (4820 + 2263)\n",
    "print(f\"Recall: {recall:.5f}\")          # 4820 / (4820 + 601)"
   ]
  },
  {
   "cell_type": "code",
   "execution_count": 30,
   "metadata": {},
   "outputs": [
    {
     "name": "stdout",
     "output_type": "stream",
     "text": [
      "0.7709532949456174\n"
     ]
    }
   ],
   "source": [
    "from sklearn.metrics import f1_score\n",
    "print(f1_score(y_train_5, prediction))"
   ]
  }
 ],
 "metadata": {
  "kernelspec": {
   "display_name": "Python 3",
   "language": "python",
   "name": "python3"
  },
  "language_info": {
   "codemirror_mode": {
    "name": "ipython",
    "version": 3
   },
   "file_extension": ".py",
   "mimetype": "text/x-python",
   "name": "python",
   "nbconvert_exporter": "python",
   "pygments_lexer": "ipython3",
   "version": "3.13.7"
  }
 },
 "nbformat": 4,
 "nbformat_minor": 2
}
